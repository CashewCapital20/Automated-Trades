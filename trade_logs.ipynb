{
 "cells": [
  {
   "cell_type": "markdown",
   "id": "e2a5fc54",
   "metadata": {},
   "source": [
    "# Real-Time Market Logging "
   ]
  },
  {
   "cell_type": "code",
   "execution_count": null,
   "id": "8aaabf12-a12d-4591-8bbf-8056574eac8e",
   "metadata": {},
   "outputs": [],
   "source": [
    "# script to keep track of trade: timestamp, stock, initial price (when real-time API was called), price bought/sold at, initial balance,\n",
    "#  quantity sold/bought, remaining balance, funds remaining, log message (summarize trade)\n",
    "# script for getting ticker input by a user"
   ]
  },
  {
   "cell_type": "code",
   "execution_count": 7,
   "id": "6aa611f3-98d9-4f9a-8a96-b1b08614108c",
   "metadata": {},
   "outputs": [],
   "source": [
    "import os\n",
    "import pymongo\n",
    "import pandas as pd\n",
    "from datetime import datetime \n",
    "from dotenv import load_dotenv"
   ]
  },
  {
   "cell_type": "code",
   "execution_count": 8,
   "id": "38e54c6f-4a65-4c8a-a445-f0de75a0c88e",
   "metadata": {},
   "outputs": [
    {
     "name": "stdout",
     "output_type": "stream",
     "text": [
      "Market Logs\n"
     ]
    }
   ],
   "source": [
    "load_dotenv()\n",
    "URI = os.getenv('MONGO_URI')\n",
    "DB_NAME = os.getenv('DATABASE_NAME')\n",
    "COLL_NAME = os.getenv('COLLECTION_LOG')\n",
    "\n",
    "client = pymongo.MongoClient(URI)\n",
    "db = client[DB_NAME]\n",
    "collection = db[COLL_NAME]\n",
    "data = collection.find()\n",
    "# print(\"Successfully exported training data\")"
   ]
  },
  {
   "cell_type": "code",
   "execution_count": 20,
   "id": "02021bbf-af75-4ce9-98fe-bc5027887ead",
   "metadata": {},
   "outputs": [
    {
     "name": "stdout",
     "output_type": "stream",
     "text": [
      "Executed trade:  sell 10 shares of AAPL at $152.00 per share. Initial quantity: 2234.00. Remaining quantity: 2224.00.\n"
     ]
    }
   ],
   "source": [
    "def log_trade(timestamp, stock, initial_funds, trade_price, initial_quantity, quantity_traded, trade_type):\n",
    "    total_cost = trade_price * quantity_traded\n",
    "    remaining_quantity = initial_quantity\n",
    "    funds_remaining = initial_funds\n",
    "    \n",
    "    if trade_type.lower() == \"buy\":\n",
    "        remaining_quantity = initial_quantity + quantity_traded\n",
    "        funds_remaining = initial_funds - total_cost\n",
    "    elif trade_type.lower() == \"sell\":\n",
    "        remaining_quantity = initial_quantity - quantity_traded\n",
    "        funds_remaining = initial_funds + total_cost\n",
    "\n",
    "    log_message = (\n",
    "        f\"{trade_type} {quantity_traded} shares of {stock} at ${trade_price:.2f} per share. \"\n",
    "        f\"Initial quantity: {initial_quantity:.2f}. \"\n",
    "        f\"Remaining quantity: {remaining_quantity:.2f}.\"\n",
    "    )\n",
    "\n",
    "    document = {\"timestamp\": timestamp,\n",
    "    \"initial_funds\": initial_funds,\n",
    "    \"trade_price\": trade_price,\n",
    "    \"initial_quantity\": initial_quantity,\n",
    "    \"quantity_traded\": quantity_traded,\n",
    "    \"remaining_quantity\": remaining_quantity,\n",
    "    \"funds_remaining\": funds_remaining,\n",
    "    \"log_message\": log_message}\n",
    "\n",
    "    collection.insert_one(document)\n",
    "    print(\"Executed trade: \", log_message)\n",
    "\n",
    "timestamp = datetime.now()\n",
    "stock = \"AAPL\"\n",
    "initial_price = 150.0\n",
    "trade_price = 152.0\n",
    "initial_funds = 10000.0  \n",
    "quantity = 10\n",
    "initial_quantity = 2234\n",
    "trade_type = \"sell\" \n",
    "\n",
    "log_trade(timestamp, stock, initial_funds, trade_price, initial_quantity, quantity, trade_type)"
   ]
  }
 ],
 "metadata": {
  "kernelspec": {
   "display_name": "Python 3 (ipykernel)",
   "language": "python",
   "name": "python3"
  },
  "language_info": {
   "codemirror_mode": {
    "name": "ipython",
    "version": 3
   },
   "file_extension": ".py",
   "mimetype": "text/x-python",
   "name": "python",
   "nbconvert_exporter": "python",
   "pygments_lexer": "ipython3",
   "version": "3.11.5"
  }
 },
 "nbformat": 4,
 "nbformat_minor": 5
}
