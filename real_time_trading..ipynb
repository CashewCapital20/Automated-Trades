{
 "cells": [
  {
   "cell_type": "markdown",
   "metadata": {},
   "source": [
    "# Fetching real-time data and execute trading"
   ]
  },
  {
   "cell_type": "code",
   "execution_count": null,
   "metadata": {
    "vscode": {
     "languageId": "plaintext"
    }
   },
   "outputs": [],
   "source": [
    "import "
   ]
  },
  {
   "cell_type": "code",
   "execution_count": null,
   "metadata": {
    "vscode": {
     "languageId": "plaintext"
    }
   },
   "outputs": [],
   "source": [
    "# Function to fetch real-time data\n",
    "def fetch_latest_data(symbol, interval='1M'):\n",
    "  data = fin.bars(symbol, date_from='1d', date_to=None, interval=interval)\n",
    "  candles = data[0]['candles']\n",
    "  df = pd.DataFrame(candles)\n",
    "  return df"
   ]
  },
  {
   "cell_type": "code",
   "execution_count": null,
   "metadata": {
    "vscode": {
     "languageId": "plaintext"
    }
   },
   "outputs": [],
   "source": [
    "# Real-time trading with the trained model\n",
    "def real_time_trading(symbol, model, poll_interval=60):\n",
    "    model = model\n",
    "\n",
    "    df = pd.DataFrame()\n",
    "\n",
    "    while True:\n",
    "        try:\n",
    "            latest_data = fetch_latest_data(symbol, interval='1M')\n",
    "\n",
    "            # Drop duplicates in case of overlapping data\n",
    "            latest_data.drop_duplicates(subset='time', keep='last', inplace=True)\n",
    "\n",
    "            # If DataFrame is empty, initialize with the latest data\n",
    "            if df.empty:\n",
    "                df = latest_data\n",
    "            else:\n",
    "              df = pd.concat([df, latest_data]).drop_duplicates(subset='time', keep='last')\n",
    "\n",
    "            # Calculate technical indicators\n",
    "            df = calculate_indicators(df)\n",
    "\n",
    "            # Ensure indicators have suficient data to work on\n",
    "            if len(df) >= 26:\n",
    "                latest_row = df.iloc[-1].copy()\n",
    "\n",
    "                # Prepare input for the model\n",
    "                X_real_time = pd.DataFrame({\n",
    "                    'macd': [latest_row['macd']],\n",
    "                    'macd_hist': [latest_row['macd_hist']],\n",
    "                    'rsi': [latest_row['rsi']],\n",
    "                    'slowk': [latest_row['slowk']],\n",
    "                    'slowd': [latest_row['slowd']]\n",
    "                })\n",
    "\n",
    "                # Make prediction with the model\n",
    "                prediction = model.predict(X_real_time)[0]\n",
    "\n",
    "                # Trade based on prediction\n",
    "                if prediction == 1:\n",
    "                    print(f\"Buy Signal at price: {latest_row['close']} at {latest_row['time']}\")\n",
    "                elif prediction == -1:\n",
    "                    print(f\"Sell Signal at price: {latest_row['close']} at {latest_row['time']}\")\n",
    "                elif prediction == -2:\n",
    "                    print(f\"Short Signal at price: {latest_row['close']} at {latest_row['time']}\")\n",
    "                elif prediction == 2:\n",
    "                    print(f\"Cover Signal at price: {latest_row['close']} at {latest_row['time']}\")\n",
    "                else:\n",
    "                    print(f\"Hold at price: {latest_row['close']} at {latest_row['time']}\")\n",
    "\n",
    "        except Exception as e:\n",
    "            print(\"Error: {e}\")\n",
    "\n",
    "        # Wait 60 seconds\n",
    "        time.sleep(poll_interval)"
   ]
  }
 ],
 "metadata": {
  "language_info": {
   "name": "python"
  }
 },
 "nbformat": 4,
 "nbformat_minor": 2
}
